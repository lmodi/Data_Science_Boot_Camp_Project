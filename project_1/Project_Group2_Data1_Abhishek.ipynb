{
 "cells": [
  {
   "cell_type": "code",
   "execution_count": 1,
   "metadata": {
    "collapsed": true
   },
   "outputs": [],
   "source": [
    "import os\n",
    "import json\n",
    "import pandas as pd"
   ]
  },
  {
   "cell_type": "code",
   "execution_count": 2,
   "metadata": {
    "collapsed": true
   },
   "outputs": [],
   "source": [
    "DATA_DIR = os.path.join('data', 'boxofficemojo')"
   ]
  },
  {
   "cell_type": "code",
   "execution_count": 3,
   "metadata": {
    "collapsed": true
   },
   "outputs": [],
   "source": [
    "list_of_movies = os.listdir(DATA_DIR)"
   ]
  },
  {
   "cell_type": "code",
   "execution_count": 4,
   "metadata": {
    "collapsed": true
   },
   "outputs": [],
   "source": [
    "all_movies=[]\n",
    "\n",
    "for i in list_of_movies:\n",
    "    target_file_path = os.path.join(DATA_DIR, i)\n",
    "    if target_file_path[-4:] == 'json':\n",
    "        with open(target_file_path, 'r') as target_file:\n",
    "            #movie1 = json.load(target_file)\n",
    "\n",
    "            all_movies.append(json.load(target_file))"
   ]
  },
  {
   "cell_type": "code",
   "execution_count": 6,
   "metadata": {
    "collapsed": false
   },
   "outputs": [
    {
     "data": {
      "text/plain": [
       "[{'alt_title': '10,000 B.C. (2008)',\n",
       "  'director': 'Roland Emmerich',\n",
       "  'domestic_gross': 94784201,\n",
       "  'mojo_slug': '10000bc',\n",
       "  'opening_per_theater': 10518,\n",
       "  'opening_weekend_take': 35867488,\n",
       "  'production_budget': 105000000,\n",
       "  'release_date_limited': None,\n",
       "  'release_date_wide': '2008-03-07',\n",
       "  'title': '10,000 B.C.',\n",
       "  'widest_release': 3454,\n",
       "  'worldwide_gross': 269784201,\n",
       "  'year': 2008},\n",
       " {'alt_title': '102 Dalmatians (2000)',\n",
       "  'director': None,\n",
       "  'domestic_gross': 66957026,\n",
       "  'mojo_slug': '102dalmatians',\n",
       "  'opening_per_theater': 7353,\n",
       "  'opening_weekend_take': 19883351,\n",
       "  'production_budget': 85000000,\n",
       "  'release_date_limited': None,\n",
       "  'release_date_wide': '2000-11-22',\n",
       "  'title': '102 Dalmatians ',\n",
       "  'widest_release': 2704,\n",
       "  'worldwide_gross': 183611771,\n",
       "  'year': 2000},\n",
       " {'alt_title': '10 Things I Hate About You (1999)',\n",
       "  'director': None,\n",
       "  'domestic_gross': 38178166,\n",
       "  'mojo_slug': '10thingsihateaboutyou',\n",
       "  'opening_per_theater': 3668,\n",
       "  'opening_weekend_take': 8330681,\n",
       "  'production_budget': 30000000,\n",
       "  'release_date_limited': None,\n",
       "  'release_date_wide': '1999-03-31',\n",
       "  'title': '10 Things I Hate About You',\n",
       "  'widest_release': 2311,\n",
       "  'worldwide_gross': 53478166,\n",
       "  'year': 1999},\n",
       " {'alt_title': '10 Years (2012)',\n",
       "  'director': 'Jamie Linden',\n",
       "  'domestic_gross': 203373,\n",
       "  'mojo_slug': '10years',\n",
       "  'opening_per_theater': 7569,\n",
       "  'opening_weekend_take': 22707,\n",
       "  'production_budget': None,\n",
       "  'release_date_limited': None,\n",
       "  'release_date_wide': '2012-09-14',\n",
       "  'title': '10 Years',\n",
       "  'widest_release': 63,\n",
       "  'worldwide_gross': 203373,\n",
       "  'year': 2012}]"
      ]
     },
     "execution_count": 6,
     "metadata": {},
     "output_type": "execute_result"
    }
   ],
   "source": [
    "all_movies[:4]"
   ]
  },
  {
   "cell_type": "code",
   "execution_count": 15,
   "metadata": {
    "collapsed": false
   },
   "outputs": [
    {
     "data": {
      "text/html": [
       "<div>\n",
       "<table border=\"1\" class=\"dataframe\">\n",
       "  <thead>\n",
       "    <tr style=\"text-align: right;\">\n",
       "      <th></th>\n",
       "      <th>alt_title</th>\n",
       "      <th>director</th>\n",
       "      <th>domestic_gross</th>\n",
       "      <th>mojo_slug</th>\n",
       "      <th>opening_per_theater</th>\n",
       "      <th>opening_weekend_take</th>\n",
       "      <th>production_budget</th>\n",
       "      <th>release_date_limited</th>\n",
       "      <th>release_date_wide</th>\n",
       "      <th>title</th>\n",
       "      <th>widest_release</th>\n",
       "      <th>worldwide_gross</th>\n",
       "      <th>year</th>\n",
       "    </tr>\n",
       "  </thead>\n",
       "  <tbody>\n",
       "    <tr>\n",
       "      <th>0</th>\n",
       "      <td>10,000 B.C. (2008)</td>\n",
       "      <td>Roland Emmerich</td>\n",
       "      <td>94784201.0</td>\n",
       "      <td>10000bc</td>\n",
       "      <td>10518.0</td>\n",
       "      <td>35867488.0</td>\n",
       "      <td>105000000.0</td>\n",
       "      <td>None</td>\n",
       "      <td>2008-03-07</td>\n",
       "      <td>10,000 B.C.</td>\n",
       "      <td>3454.0</td>\n",
       "      <td>269784201.0</td>\n",
       "      <td>2008.0</td>\n",
       "    </tr>\n",
       "    <tr>\n",
       "      <th>1</th>\n",
       "      <td>102 Dalmatians (2000)</td>\n",
       "      <td>None</td>\n",
       "      <td>66957026.0</td>\n",
       "      <td>102dalmatians</td>\n",
       "      <td>7353.0</td>\n",
       "      <td>19883351.0</td>\n",
       "      <td>85000000.0</td>\n",
       "      <td>None</td>\n",
       "      <td>2000-11-22</td>\n",
       "      <td>102 Dalmatians</td>\n",
       "      <td>2704.0</td>\n",
       "      <td>183611771.0</td>\n",
       "      <td>2000.0</td>\n",
       "    </tr>\n",
       "    <tr>\n",
       "      <th>2</th>\n",
       "      <td>10 Things I Hate About You (1999)</td>\n",
       "      <td>None</td>\n",
       "      <td>38178166.0</td>\n",
       "      <td>10thingsihateaboutyou</td>\n",
       "      <td>3668.0</td>\n",
       "      <td>8330681.0</td>\n",
       "      <td>30000000.0</td>\n",
       "      <td>None</td>\n",
       "      <td>1999-03-31</td>\n",
       "      <td>10 Things I Hate About You</td>\n",
       "      <td>2311.0</td>\n",
       "      <td>53478166.0</td>\n",
       "      <td>1999.0</td>\n",
       "    </tr>\n",
       "    <tr>\n",
       "      <th>3</th>\n",
       "      <td>10 Years (2012)</td>\n",
       "      <td>Jamie Linden</td>\n",
       "      <td>203373.0</td>\n",
       "      <td>10years</td>\n",
       "      <td>7569.0</td>\n",
       "      <td>22707.0</td>\n",
       "      <td>NaN</td>\n",
       "      <td>None</td>\n",
       "      <td>2012-09-14</td>\n",
       "      <td>10 Years</td>\n",
       "      <td>63.0</td>\n",
       "      <td>203373.0</td>\n",
       "      <td>2012.0</td>\n",
       "    </tr>\n",
       "    <tr>\n",
       "      <th>4</th>\n",
       "      <td>11 Flowers (2013)</td>\n",
       "      <td>None</td>\n",
       "      <td>9213.0</td>\n",
       "      <td>11flowers</td>\n",
       "      <td>1758.0</td>\n",
       "      <td>3516.0</td>\n",
       "      <td>NaN</td>\n",
       "      <td>None</td>\n",
       "      <td>2013-02-22</td>\n",
       "      <td>11 Flowers</td>\n",
       "      <td>2.0</td>\n",
       "      <td>NaN</td>\n",
       "      <td>2013.0</td>\n",
       "    </tr>\n",
       "  </tbody>\n",
       "</table>\n",
       "</div>"
      ],
      "text/plain": [
       "                           alt_title         director  domestic_gross  \\\n",
       "0                 10,000 B.C. (2008)  Roland Emmerich      94784201.0   \n",
       "1              102 Dalmatians (2000)             None      66957026.0   \n",
       "2  10 Things I Hate About You (1999)             None      38178166.0   \n",
       "3                    10 Years (2012)     Jamie Linden        203373.0   \n",
       "4                  11 Flowers (2013)             None          9213.0   \n",
       "\n",
       "               mojo_slug  opening_per_theater  opening_weekend_take  \\\n",
       "0                10000bc              10518.0            35867488.0   \n",
       "1          102dalmatians               7353.0            19883351.0   \n",
       "2  10thingsihateaboutyou               3668.0             8330681.0   \n",
       "3                10years               7569.0               22707.0   \n",
       "4              11flowers               1758.0                3516.0   \n",
       "\n",
       "   production_budget release_date_limited release_date_wide  \\\n",
       "0        105000000.0                 None        2008-03-07   \n",
       "1         85000000.0                 None        2000-11-22   \n",
       "2         30000000.0                 None        1999-03-31   \n",
       "3                NaN                 None        2012-09-14   \n",
       "4                NaN                 None        2013-02-22   \n",
       "\n",
       "                        title  widest_release  worldwide_gross    year  \n",
       "0                 10,000 B.C.          3454.0      269784201.0  2008.0  \n",
       "1             102 Dalmatians           2704.0      183611771.0  2000.0  \n",
       "2  10 Things I Hate About You          2311.0       53478166.0  1999.0  \n",
       "3                    10 Years            63.0         203373.0  2012.0  \n",
       "4                 11 Flowers              2.0              NaN  2013.0  "
      ]
     },
     "execution_count": 15,
     "metadata": {},
     "output_type": "execute_result"
    }
   ],
   "source": [
    "#Create DateFrame for 'boxofficemojo'\n",
    "import pandas as pd\n",
    "import matplotlib.pyplot as plt\n",
    "movies = pd.DataFrame(all_movies)\n",
    "movies.head()"
   ]
  },
  {
   "cell_type": "code",
   "execution_count": 8,
   "metadata": {
    "collapsed": true
   },
   "outputs": [],
   "source": [
    "DATA_DIR_2 = os.path.join('data', 'metacritic')"
   ]
  },
  {
   "cell_type": "code",
   "execution_count": 9,
   "metadata": {
    "collapsed": true
   },
   "outputs": [],
   "source": [
    "list_of_movies_metacritic = os.listdir(DATA_DIR_2)"
   ]
  },
  {
   "cell_type": "code",
   "execution_count": 10,
   "metadata": {
    "collapsed": true
   },
   "outputs": [],
   "source": [
    "all_movies_metacritic=[]\n",
    "\n",
    "for i in list_of_movies_metacritic:\n",
    "    target_file_path = os.path.join(DATA_DIR_2, i)\n",
    "    if target_file_path[-4:] == 'json':\n",
    "        with open(target_file_path, 'r') as target_file:\n",
    "            #movie1 = json.load(target_file)\n",
    "\n",
    "            all_movies_metacritic.append(json.load(target_file))"
   ]
  },
  {
   "cell_type": "code",
   "execution_count": 20,
   "metadata": {
    "collapsed": false
   },
   "outputs": [],
   "source": [
    "#all_movies_metacritic[:6]\n",
    "#len(all_movies_metacritic)"
   ]
  },
  {
   "cell_type": "code",
   "execution_count": 21,
   "metadata": {
    "collapsed": false
   },
   "outputs": [],
   "source": [
    "#Create DateFrame for 'boxofficemojo'\n",
    "#import pandas as pd\n",
    "#import matplotlib.pyplot as plt\n",
    "#movies2 = pd.DataFrame(all_movies_metacritic)\n",
    "#movies2.head()"
   ]
  },
  {
   "cell_type": "code",
   "execution_count": 24,
   "metadata": {
    "collapsed": false
   },
   "outputs": [
    {
     "data": {
      "text/html": [
       "<div>\n",
       "<table border=\"1\" class=\"dataframe\">\n",
       "  <thead>\n",
       "    <tr style=\"text-align: right;\">\n",
       "      <th></th>\n",
       "      <th>alt_title</th>\n",
       "      <th>director</th>\n",
       "      <th>domestic_gross</th>\n",
       "      <th>mojo_slug</th>\n",
       "      <th>opening_per_theater</th>\n",
       "      <th>opening_weekend_take</th>\n",
       "      <th>production_budget</th>\n",
       "      <th>release_date_limited</th>\n",
       "      <th>release_date_wide</th>\n",
       "      <th>title</th>\n",
       "      <th>widest_release</th>\n",
       "      <th>worldwide_gross</th>\n",
       "      <th>year</th>\n",
       "    </tr>\n",
       "  </thead>\n",
       "  <tbody>\n",
       "    <tr>\n",
       "      <th>0</th>\n",
       "      <td>10,000 B.C. (2008)</td>\n",
       "      <td>Roland Emmerich</td>\n",
       "      <td>94784201.0</td>\n",
       "      <td>10000bc</td>\n",
       "      <td>10518.0</td>\n",
       "      <td>35867488.0</td>\n",
       "      <td>105000000.0</td>\n",
       "      <td>None</td>\n",
       "      <td>2008-03-07</td>\n",
       "      <td>10,000 B.C.</td>\n",
       "      <td>3454.0</td>\n",
       "      <td>269784201.0</td>\n",
       "      <td>2008.0</td>\n",
       "    </tr>\n",
       "    <tr>\n",
       "      <th>1</th>\n",
       "      <td>102 Dalmatians (2000)</td>\n",
       "      <td>None</td>\n",
       "      <td>66957026.0</td>\n",
       "      <td>102dalmatians</td>\n",
       "      <td>7353.0</td>\n",
       "      <td>19883351.0</td>\n",
       "      <td>85000000.0</td>\n",
       "      <td>None</td>\n",
       "      <td>2000-11-22</td>\n",
       "      <td>102 Dalmatians</td>\n",
       "      <td>2704.0</td>\n",
       "      <td>183611771.0</td>\n",
       "      <td>2000.0</td>\n",
       "    </tr>\n",
       "    <tr>\n",
       "      <th>2</th>\n",
       "      <td>10 Things I Hate About You (1999)</td>\n",
       "      <td>None</td>\n",
       "      <td>38178166.0</td>\n",
       "      <td>10thingsihateaboutyou</td>\n",
       "      <td>3668.0</td>\n",
       "      <td>8330681.0</td>\n",
       "      <td>30000000.0</td>\n",
       "      <td>None</td>\n",
       "      <td>1999-03-31</td>\n",
       "      <td>10 Things I Hate About You</td>\n",
       "      <td>2311.0</td>\n",
       "      <td>53478166.0</td>\n",
       "      <td>1999.0</td>\n",
       "    </tr>\n",
       "    <tr>\n",
       "      <th>3</th>\n",
       "      <td>10 Years (2012)</td>\n",
       "      <td>Jamie Linden</td>\n",
       "      <td>203373.0</td>\n",
       "      <td>10years</td>\n",
       "      <td>7569.0</td>\n",
       "      <td>22707.0</td>\n",
       "      <td>NaN</td>\n",
       "      <td>None</td>\n",
       "      <td>2012-09-14</td>\n",
       "      <td>10 Years</td>\n",
       "      <td>63.0</td>\n",
       "      <td>203373.0</td>\n",
       "      <td>2012.0</td>\n",
       "    </tr>\n",
       "  </tbody>\n",
       "</table>\n",
       "</div>"
      ],
      "text/plain": [
       "                           alt_title         director  domestic_gross  \\\n",
       "0                 10,000 B.C. (2008)  Roland Emmerich      94784201.0   \n",
       "1              102 Dalmatians (2000)             None      66957026.0   \n",
       "2  10 Things I Hate About You (1999)             None      38178166.0   \n",
       "3                    10 Years (2012)     Jamie Linden        203373.0   \n",
       "\n",
       "               mojo_slug  opening_per_theater  opening_weekend_take  \\\n",
       "0                10000bc              10518.0            35867488.0   \n",
       "1          102dalmatians               7353.0            19883351.0   \n",
       "2  10thingsihateaboutyou               3668.0             8330681.0   \n",
       "3                10years               7569.0               22707.0   \n",
       "\n",
       "   production_budget release_date_limited release_date_wide  \\\n",
       "0        105000000.0                 None        2008-03-07   \n",
       "1         85000000.0                 None        2000-11-22   \n",
       "2         30000000.0                 None        1999-03-31   \n",
       "3                NaN                 None        2012-09-14   \n",
       "\n",
       "                        title  widest_release  worldwide_gross    year  \n",
       "0                 10,000 B.C.          3454.0      269784201.0  2008.0  \n",
       "1             102 Dalmatians           2704.0      183611771.0  2000.0  \n",
       "2  10 Things I Hate About You          2311.0       53478166.0  1999.0  \n",
       "3                    10 Years            63.0         203373.0  2012.0  "
      ]
     },
     "execution_count": 24,
     "metadata": {},
     "output_type": "execute_result"
    }
   ],
   "source": [
    "movies[:4]"
   ]
  },
  {
   "cell_type": "code",
   "execution_count": 23,
   "metadata": {
    "collapsed": false
   },
   "outputs": [
    {
     "data": {
      "text/plain": [
       "<matplotlib.axes._subplots.AxesSubplot at 0x1164df470>"
      ]
     },
     "execution_count": 23,
     "metadata": {},
     "output_type": "execute_result"
    },
    {
     "data": {
      "image/png": "[encoded data removed]",
      "text/plain": [
       "<matplotlib.figure.Figure at 0x118c904e0>"
      ]
     },
     "metadata": {},
     "output_type": "display_data"
    }
   ],
   "source": [
    "%matplotlib inline\n",
    "import sys\n",
    "sys.path.append('..')\n",
    "movies.plot(kind='scatter', x='opening_weekend_take', y='domestic_gross')"
   ]
  },
  {
   "cell_type": "code",
   "execution_count": 26,
   "metadata": {
    "collapsed": false
   },
   "outputs": [
    {
     "data": {
      "text/plain": [
       "<matplotlib.axes._subplots.AxesSubplot at 0x1190c7e48>"
      ]
     },
     "execution_count": 26,
     "metadata": {},
     "output_type": "execute_result"
    },
    {
     "data": {
      "image/png": "[encoded data removed]",
      "text/plain": [
       "<matplotlib.figure.Figure at 0x1190e8668>"
      ]
     },
     "metadata": {},
     "output_type": "display_data"
    }
   ],
   "source": [
    "movies.plot (x = 'director', y='production_budget')"
   ]
  },
  {
   "cell_type": "code",
   "execution_count": 27,
   "metadata": {
    "collapsed": true
   },
   "outputs": [],
   "source": [
    "import seaborn"
   ]
  },
  {
   "cell_type": "code",
   "execution_count": 40,
   "metadata": {
    "collapsed": false
   },
   "outputs": [],
   "source": [
    "# Look for the most expensive directors\n",
    "N = 5\n",
    "top_directors = movies.director.value_counts().index[:N]\n",
    "top_dir_movies = movies[movies['director'].isin(top_directors)]\n",
    "\n",
    "#print '%i movies by top %i directors: %s' %(len(top_dir_movies),N,', '.join(top_directors))"
   ]
  },
  {
   "cell_type": "code",
   "execution_count": 42,
   "metadata": {
    "collapsed": false
   },
   "outputs": [
    {
     "data": {
      "text/plain": [
       "<seaborn.axisgrid.FacetGrid at 0x11bcf2e80>"
      ]
     },
     "execution_count": 42,
     "metadata": {},
     "output_type": "execute_result"
    },
    {
     "data": {
      "image/png": "[encoded data removed]",
      "text/plain": [
       "<matplotlib.figure.Figure at 0x11bcf2080>"
      ]
     },
     "metadata": {},
     "output_type": "display_data"
    }
   ],
   "source": [
    "by_director = seaborn.FacetGrid(top_dir_movies, col=\"director\")\n",
    "by_director.map(plt.scatter, \"year\", \"domestic_gross\")"
   ]
  },
  {
   "cell_type": "code",
   "execution_count": 43,
   "metadata": {
    "collapsed": false
   },
   "outputs": [
    {
     "data": {
      "text/plain": [
       "<seaborn.axisgrid.FacetGrid at 0x11c3b60b8>"
      ]
     },
     "execution_count": 43,
     "metadata": {},
     "output_type": "execute_result"
    },
    {
     "data": {
      "image/png": "[encoded data removed]",
      "text/plain": [
       "<matplotlib.figure.Figure at 0x11cf86780>"
      ]
     },
     "metadata": {},
     "output_type": "display_data"
    }
   ],
   "source": [
    "by_director = seaborn.FacetGrid(top_dir_movies, col=\"director\")\n",
    "by_director.map(plt.scatter, \"year\", \"production_budget\")"
   ]
  },
  {
   "cell_type": "code",
   "execution_count": 44,
   "metadata": {
    "collapsed": true
   },
   "outputs": [],
   "source": [
    "profit = movies.domestic_gross - movies.production_budget"
   ]
  },
  {
   "cell_type": "code",
   "execution_count": 46,
   "metadata": {
    "collapsed": false
   },
   "outputs": [
    {
     "name": "stderr",
     "output_type": "stream",
     "text": [
      "/Users/abhishekspathak/anaconda/lib/python3.5/site-packages/ipykernel/__main__.py:1: SettingWithCopyWarning: \n",
      "A value is trying to be set on a copy of a slice from a DataFrame.\n",
      "Try using .loc[row_indexer,col_indexer] = value instead\n",
      "\n",
      "See the caveats in the documentation: http://pandas.pydata.org/pandas-docs/stable/indexing.html#indexing-view-versus-copy\n",
      "  if __name__ == '__main__':\n"
     ]
    },
    {
     "data": {
      "text/plain": [
       "<seaborn.axisgrid.FacetGrid at 0x11d8c9748>"
      ]
     },
     "execution_count": 46,
     "metadata": {},
     "output_type": "execute_result"
    },
    {
     "data": {
      "image/png": "[encoded data removed]",
      "text/plain": [
       "<matplotlib.figure.Figure at 0x11d8bcb00>"
      ]
     },
     "metadata": {},
     "output_type": "display_data"
    }
   ],
   "source": [
    "top_dir_movies['profit'] = profit\n",
    "by_director = seaborn.FacetGrid(top_dir_movies, col=\"director\")\n",
    "by_director.map(plt.scatter, \"year\", \"profit\")"
   ]
  },
  {
   "cell_type": "code",
   "execution_count": 47,
   "metadata": {
    "collapsed": true
   },
   "outputs": [],
   "source": [
    "profit_perc = profit / movies.production_budget"
   ]
  },
  {
   "cell_type": "code",
   "execution_count": 48,
   "metadata": {
    "collapsed": false
   },
   "outputs": [
    {
     "name": "stderr",
     "output_type": "stream",
     "text": [
      "/Users/abhishekspathak/anaconda/lib/python3.5/site-packages/ipykernel/__main__.py:1: SettingWithCopyWarning: \n",
      "A value is trying to be set on a copy of a slice from a DataFrame.\n",
      "Try using .loc[row_indexer,col_indexer] = value instead\n",
      "\n",
      "See the caveats in the documentation: http://pandas.pydata.org/pandas-docs/stable/indexing.html#indexing-view-versus-copy\n",
      "  if __name__ == '__main__':\n"
     ]
    },
    {
     "data": {
      "text/plain": [
       "<seaborn.axisgrid.FacetGrid at 0x11d8ed240>"
      ]
     },
     "execution_count": 48,
     "metadata": {},
     "output_type": "execute_result"
    },
    {
     "data": {
      "image/png": "[encoded data removed]",
      "text/plain": [
       "<matplotlib.figure.Figure at 0x11d8d6da0>"
      ]
     },
     "metadata": {},
     "output_type": "display_data"
    }
   ],
   "source": [
    "top_dir_movies['profit_perc'] = profit_perc\n",
    "by_director = seaborn.FacetGrid(top_dir_movies, col=\"director\")\n",
    "by_director.map(plt.scatter, \"year\", \"profit_perc\")"
   ]
  },
  {
   "cell_type": "markdown",
   "metadata": {},
   "source": [
    "# Use the combination of two data\n",
    "\n",
    "DATA_DIR_MOV = os.path.join('data', 'boxofficemojo')\n",
    "\n",
    "# 'listdir' function from 'os'  gives you a list of all\n",
    "target_file_names_Mov = os.listdir(DATA_DIR_MOV)\n",
    "\n",
    "movie = list()\n",
    "for files in target_file_names_Mov:\n",
    "    target_file_path = os.path.join(DATA_DIR_MOV, files)\n",
    "    with open(target_file_path,'r') as target_file:\n",
    "        movie.append(json.load(target_file))\n",
    "        \n",
    "\n",
    "movies_df = pd.DataFrame(movie) \n",
    "\n",
    "DATA_DIR_CRI = os.path.join('data', 'metacritic')\n",
    "\n",
    "# 'listdir' function from 'os'  gives you a list of all\n",
    "target_file_names_Cri = os.listdir(DATA_DIR_CRI)\n",
    "\n",
    "critics = list()\n",
    "for files in target_file_names_Cri:\n",
    "    target_file_path = os.path.join(DATA_DIR_CRI, files)\n",
    "    with open(target_file_path,'r') as target_file:\n",
    "        critics.append(json.load(target_file))\n",
    "\n",
    "list_key=critics[1].keys()\n",
    "\n",
    "count = 0            \n",
    "for i,crt in enumerate(critics):\n",
    "    try:\n",
    "        if(list_key != crt.keys()):\n",
    "            count += 1\n",
    "            print (i,crt)\n",
    "    except AttributeError:\n",
    "        count=count\n",
    "        print (i,crt)\n",
    "\n",
    "print (count)"
   ]
  },
  {
   "cell_type": "markdown",
   "metadata": {},
   "source": [
    "list_index = [80,81,1253,4441]\n",
    "\n",
    "critics = [j for i,j in enumerate(critics) if i not in list_index]"
   ]
  },
  {
   "cell_type": "code",
   "execution_count": 60,
   "metadata": {
    "collapsed": false
   },
   "outputs": [
    {
     "name": "stdout",
     "output_type": "stream",
     "text": [
      "0\n"
     ]
    }
   ],
   "source": [
    "list_key=critics[1].keys()\n",
    "\n",
    "count = 0            \n",
    "for i,crt in enumerate(critics):\n",
    "    try:\n",
    "        if(list_key != crt.keys()):\n",
    "            count += 1\n",
    "            print (i,crt)\n",
    "    except AttributeError:\n",
    "        count=count\n",
    "        print (i,crt)\n",
    "\n",
    "print (count)"
   ]
  },
  {
   "cell_type": "code",
   "execution_count": 63,
   "metadata": {
    "collapsed": false
   },
   "outputs": [],
   "source": [
    "# Creating Genre list\n",
    "\n",
    "genre_list = []\n",
    "\n",
    "for crt in critics:\n",
    "    try:\n",
    "        for i in crt['genre']:\n",
    "            genre_list.append(i)\n",
    "    except KeyError:\n",
    "        print (\"Key Error\")"
   ]
  },
  {
   "cell_type": "code",
   "execution_count": 65,
   "metadata": {
    "collapsed": true
   },
   "outputs": [],
   "source": [
    "unique_genre = set(genre_list)"
   ]
  },
  {
   "cell_type": "code",
   "execution_count": 66,
   "metadata": {
    "collapsed": true
   },
   "outputs": [],
   "source": [
    "\n",
    "for i,crt in enumerate(critics):\n",
    "    try:\n",
    "        crt['critic_positive'] = crt['num_critic_reviews'][0]\n",
    "        crt['critic_netural'] = crt['num_critic_reviews'][1]\n",
    "        crt['critic_negative'] = crt['num_critic_reviews'][2]\n",
    "        crt['critic_total'] = crt['num_critic_reviews'][3]\n",
    "        \n",
    "        crt['user_positive'] = crt['num_user_reviews'][0]\n",
    "        crt['user_netural'] = crt['num_user_reviews'][1]\n",
    "        crt['user_negative'] = crt['num_user_reviews'][2]\n",
    "        crt['user_total'] = crt['num_user_reviews'][3]\n",
    "\n",
    "        if crt['num_critic_reviews'][3] !=0:\n",
    "            crt['critic_positive_pct'] = float(crt['num_critic_reviews'][0])/crt['num_critic_reviews'][3]\n",
    "            crt['critic_netural_pct'] = float(crt['num_critic_reviews'][1])/crt['num_critic_reviews'][3]\n",
    "            crt['critic_negative_pct'] = float(crt['num_critic_reviews'][2])/crt['num_critic_reviews'][3]\n",
    "        else:\n",
    "            crt['critic_positive_pct'] = 0.0\n",
    "            crt['critic_netural_pct'] = 0.0\n",
    "            crt['critic_negative_pct'] = 0.0\n",
    "            \n",
    "        if crt['num_user_reviews'][3] !=0:\n",
    "            crt['user_positive_pct'] = float(crt['num_user_reviews'][0])/crt['num_user_reviews'][3]\n",
    "            crt['user_netural_pct'] = float(crt['num_user_reviews'][1])/crt['num_user_reviews'][3]\n",
    "            crt['user_negative_pct'] = float(crt['num_user_reviews'][2])/crt['num_user_reviews'][3]\n",
    "        else:\n",
    "            crt['user_positive_pct'] = 0.0\n",
    "            crt['user_netural_pct'] = 0.0\n",
    "            crt['user_negative_pct'] = 0.0    \n",
    "    \n",
    "    except KeyError:\n",
    "        print (i,\"Key Error\")"
   ]
  },
  {
   "cell_type": "code",
   "execution_count": 67,
   "metadata": {
    "collapsed": true
   },
   "outputs": [],
   "source": [
    "critics_df=pd.DataFrame(critics)"
   ]
  },
  {
   "cell_type": "code",
   "execution_count": 68,
   "metadata": {
    "collapsed": true
   },
   "outputs": [],
   "source": [
    "\n",
    "# Creating cleaned title with only character and number\n",
    "\n",
    "movies_df['cleaned_title'] = movies_df['title'].str.lower()\n",
    "movies_df['cleaned_title'] = movies_df['cleaned_title'].str.replace(\"\\W\",'')\n",
    "\n",
    "critics_df['cleaned_title'] = critics_df['title'].str.lower()\n",
    "critics_df['cleaned_title'] = critics_df['cleaned_title'].str.replace(\"\\W\",'')"
   ]
  },
  {
   "cell_type": "code",
   "execution_count": 69,
   "metadata": {
    "collapsed": true
   },
   "outputs": [],
   "source": [
    "movie_critics_df = pd.merge(movies_df, critics_df, on='cleaned_title', how='inner')"
   ]
  },
  {
   "cell_type": "code",
   "execution_count": 74,
   "metadata": {
    "collapsed": false
   },
   "outputs": [
    {
     "data": {
      "text/plain": [
       "['alt_title',\n",
       " 'director_x',\n",
       " 'domestic_gross',\n",
       " 'mojo_slug',\n",
       " 'opening_per_theater',\n",
       " 'opening_weekend_take',\n",
       " 'production_budget',\n",
       " 'release_date_limited',\n",
       " 'release_date_wide',\n",
       " 'title_x',\n",
       " 'widest_release',\n",
       " 'worldwide_gross',\n",
       " 'year_x',\n",
       " 'cleaned_title',\n",
       " 'complete',\n",
       " 'critic_negative',\n",
       " 'critic_negative_pct',\n",
       " 'critic_netural',\n",
       " 'critic_netural_pct',\n",
       " 'critic_positive',\n",
       " 'critic_positive_pct',\n",
       " 'critic_total',\n",
       " 'director_y',\n",
       " 'genre',\n",
       " 'metacritic_page',\n",
       " 'metascore',\n",
       " 'num_critic_reviews',\n",
       " 'num_user_ratings',\n",
       " 'num_user_reviews',\n",
       " 'rating',\n",
       " 'release_date',\n",
       " 'runtime_minutes',\n",
       " 'studio',\n",
       " 'title_y',\n",
       " 'user_negative',\n",
       " 'user_negative_pct',\n",
       " 'user_netural',\n",
       " 'user_netural_pct',\n",
       " 'user_positive',\n",
       " 'user_positive_pct',\n",
       " 'user_score',\n",
       " 'user_total',\n",
       " 'year_y']"
      ]
     },
     "execution_count": 74,
     "metadata": {},
     "output_type": "execute_result"
    }
   ],
   "source": [
    "list(movie_critics_df.columns.values)"
   ]
  },
  {
   "cell_type": "code",
   "execution_count": 84,
   "metadata": {
    "collapsed": false
   },
   "outputs": [
    {
     "data": {
      "text/plain": [
       "pandas.core.series.Series"
      ]
     },
     "execution_count": 84,
     "metadata": {},
     "output_type": "execute_result"
    }
   ],
   "source": [
    "type(movie_critics_df.release_date_wide)"
   ]
  },
  {
   "cell_type": "code",
   "execution_count": null,
   "metadata": {
    "collapsed": true
   },
   "outputs": [],
   "source": []
  }
 ],
 "metadata": {
  "kernelspec": {
   "display_name": "Python 3",
   "language": "python",
   "name": "python3"
  },
  "language_info": {
   "codemirror_mode": {
    "name": "ipython",
    "version": 3
   },
   "file_extension": ".py",
   "mimetype": "text/x-python",
   "name": "python",
   "nbconvert_exporter": "python",
   "pygments_lexer": "ipython3",
   "version": "3.5.1"
  }
 },
 "nbformat": 4,
 "nbformat_minor": 0
}
