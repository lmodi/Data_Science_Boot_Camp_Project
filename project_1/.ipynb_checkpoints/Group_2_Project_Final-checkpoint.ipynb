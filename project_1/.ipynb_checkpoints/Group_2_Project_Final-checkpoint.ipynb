{
 "cells": [
  {
   "cell_type": "markdown",
   "metadata": {},
   "source": [
    "## Analysis and Prediction of Investment Decisions for Movies\n",
    "\n",
    "by\n",
    "Movie-Miners "
   ]
  },
  {
   "cell_type": "markdown",
   "metadata": {},
   "source": [
    "# Executive Summary:\n",
    "\n",
    "Movies contribute immensely to our lives. They not only bring entertain but convey valuable information and tell us stories. The entertainment industry has been flooded with variety of movies, coming from different directors and production houses. Movie-Miners bring you the insights into different asepcts of movies and help you make smart investments on the most potent movies."
   ]
  },
  {
   "cell_type": "markdown",
   "metadata": {},
   "source": [
    "We know from historical trends that a movie's gross increases for the first few weeks, it reaches a peak afterwards, and then asymptotes for the later weeks. We would want to tap on the opportunity to invest into the DVD / streaming rights"
   ]
  },
  {
   "cell_type": "markdown",
   "metadata": {},
   "source": [
    "![](http://www.flickeringmyth.com/wp-content/uploads/2015/12/star-wars-the-force-awakens-quad-poster.jpg)"
   ]
  },
  {
   "cell_type": "code",
   "execution_count": 37,
   "metadata": {
    "collapsed": false
   },
   "outputs": [
    {
     "data": {
      "text/plain": [
       "<matplotlib.text.Text at 0x115dc02e8>"
      ]
     },
     "execution_count": 37,
     "metadata": {},
     "output_type": "execute_result"
    },
    {
     "data": {
      "image/png": "[encoded data removed]",
      "text/plain": [
       "<matplotlib.figure.Figure at 0x116899128>"
      ]
     },
     "metadata": {},
     "output_type": "display_data"
    }
   ],
   "source": [
    "\n",
    "# Weekly Revenue for Star Wars 2015 (boxofficemojo.com)\n",
    "\n",
    "gross_sw = [118413774, 55551798, 39099505, 19611816, 14427307, 9573495, 9161331, 5195589, 3975631]\n",
    "week_sw = [1, 2, 3, 4, 5, 6, 7, 8, 9]\n",
    "\n",
    "plt.plot(week_sw,gross_sw)\n",
    "plt.xlabel(\"Opening Weeks\")\n",
    "plt.ylabel(\"$ in 100 millions\")\n",
    "plt.title(\"Weekly Revenue for Star Wars (boxofficemojo.com)\")"
   ]
  },
  {
   "cell_type": "code",
   "execution_count": 38,
   "metadata": {
    "collapsed": false
   },
   "outputs": [
    {
     "data": {
      "text/plain": [
       "<matplotlib.text.Text at 0x115faf400>"
      ]
     },
     "execution_count": 38,
     "metadata": {},
     "output_type": "execute_result"
    },
    {
     "data": {
      "image/png": "[encoded data removed]",
      "text/plain": [
       "<matplotlib.figure.Figure at 0x11589a8d0>"
      ]
     },
     "metadata": {},
     "output_type": "display_data"
    }
   ],
   "source": [
    "%matplotlib inline\n",
    "import matplotlib.pyplot as plt\n",
    "\n",
    "# Weekly Revenue for Deadpool (boxofficemojo.com)\n",
    "\n",
    "gross_dp = [180394887, 73744122, 40619123, 22519293, 15663958, 11532583, 7134968, 4715805, \n",
    "         2788510, 1338694]\n",
    "week_dp = [1, 2, 3, 4, 5, 6, 7, 8, 9, 10]\n",
    "\n",
    "plt.plot(week_dp,gross_dp)\n",
    "plt.xlabel(\"Opening Weeks\")\n",
    "plt.ylabel(\"$ in 100 millions\")\n",
    "plt.title(\"Weekly Revenue for Deadpool (boxofficemojo.com)\")\n",
    "#import sys\n",
    "#sys.path.append('..')\n",
    "#grossbyweek.plot(kind='line', )\n"
   ]
  },
  {
   "cell_type": "markdown",
   "metadata": {},
   "source": [
    "![](http://screencrush.com/442/files/2016/02/deadpool-2-boyfriend-pic.jpg?w=720&cdnnode=1)"
   ]
  },
  {
   "cell_type": "markdown",
   "metadata": {},
   "source": [
    "It will be smarter to invest into DVD / Blue Ray rights into those movies that have the ability to become successful after 8 weeks according to our model. To serve the needs of the tech savvy viewers, we can also look for investment opportunities into streaming businesses."
   ]
  },
  {
   "cell_type": "markdown",
   "metadata": {},
   "source": [
    "# Analysis of domestic gross, budget and profit"
   ]
  },
  {
   "cell_type": "code",
   "execution_count": 2,
   "metadata": {
    "collapsed": false
   },
   "outputs": [
    {
     "ename": "NameError",
     "evalue": "name 'top_genre_df' is not defined",
     "output_type": "error",
     "traceback": [
      "\u001b[1;31m---------------------------------------------------------------------------\u001b[0m",
      "\u001b[1;31mNameError\u001b[0m                                 Traceback (most recent call last)",
      "\u001b[1;32m<ipython-input-2-1e9456cb4904>\u001b[0m in \u001b[0;36m<module>\u001b[1;34m()\u001b[0m\n\u001b[0;32m      1\u001b[0m \u001b[1;32mimport\u001b[0m \u001b[0mseaborn\u001b[0m\u001b[1;33m\u001b[0m\u001b[0m\n\u001b[1;32m----> 2\u001b[1;33m \u001b[0mby_genre\u001b[0m \u001b[1;33m=\u001b[0m \u001b[0mseaborn\u001b[0m\u001b[1;33m.\u001b[0m\u001b[0mFacetGrid\u001b[0m\u001b[1;33m(\u001b[0m\u001b[0mtop_genre_df\u001b[0m\u001b[1;33m,\u001b[0m \u001b[0mcol\u001b[0m\u001b[1;33m=\u001b[0m\u001b[1;34m\"Genre_dummy\"\u001b[0m\u001b[1;33m)\u001b[0m\u001b[1;33m\u001b[0m\u001b[0m\n\u001b[0m\u001b[0;32m      3\u001b[0m \u001b[0mby_genre\u001b[0m\u001b[1;33m.\u001b[0m\u001b[0mmap\u001b[0m\u001b[1;33m(\u001b[0m\u001b[0mplt\u001b[0m\u001b[1;33m.\u001b[0m\u001b[0mscatter\u001b[0m\u001b[1;33m,\u001b[0m \u001b[1;34m\"year_x\"\u001b[0m\u001b[1;33m,\u001b[0m \u001b[1;34m\"domestic_gross\"\u001b[0m\u001b[1;33m)\u001b[0m\u001b[1;33m\u001b[0m\u001b[0m\n",
      "\u001b[1;31mNameError\u001b[0m: name 'top_genre_df' is not defined"
     ]
    }
   ],
   "source": []
  },
  {
   "cell_type": "code",
   "execution_count": null,
   "metadata": {
    "collapsed": true
   },
   "outputs": [],
   "source": []
  }
 ],
 "metadata": {
  "kernelspec": {
   "display_name": "Python 2",
   "language": "python",
   "name": "python2"
  },
  "language_info": {
   "codemirror_mode": {
    "name": "ipython",
    "version": 2
   },
   "file_extension": ".py",
   "mimetype": "text/x-python",
   "name": "python",
   "nbconvert_exporter": "python",
   "pygments_lexer": "ipython2",
   "version": "2.7.11"
  }
 },
 "nbformat": 4,
 "nbformat_minor": 0
}
